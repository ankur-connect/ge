{
 "cells": [
  {
   "cell_type": "markdown",
   "metadata": {},
   "source": [
    "## DS-GA 1011 Lab 8 Neural Attention with Machine Translation\n",
    "\n",
    "Code adapted from http://pytorch.org/tutorials/intermediate/seq2seq_translation_tutorial.html."
   ]
  },
  {
   "cell_type": "code",
   "execution_count": 88,
   "metadata": {
    "collapsed": true
   },
   "outputs": [],
   "source": [
    "%matplotlib inline"
   ]
  },
  {
   "cell_type": "code",
   "execution_count": 89,
   "metadata": {
    "collapsed": true
   },
   "outputs": [],
   "source": [
    "from __future__ import unicode_literals, print_function, division\n",
    "from collections import Counter\n",
    "from io import open\n",
    "import unicodedata\n",
    "import string\n",
    "import re\n",
    "import random\n",
    "\n",
    "import torch\n",
    "import torch.nn as nn\n",
    "from torch.autograd import Variable\n",
    "from torch import optim\n",
    "import torch.nn.functional as F\n",
    "import numpy as np\n",
    "\n",
    "use_cuda = torch.cuda.is_available()"
   ]
  },
  {
   "cell_type": "code",
   "execution_count": 90,
   "metadata": {
    "collapsed": true
   },
   "outputs": [],
   "source": [
    "with open(\"/Users/carolineroper/Documents/School/Natural Language Processing/Char-NMT/data/train.txt\", \"r\", encoding=\"utf8\") as f:\n",
    "    \n",
    "    DE_seq = []\n",
    "    EN_seq = []\n",
    "    \n",
    "    for i, line in enumerate(f):\n",
    "        \n",
    "        line = line.split('<JOIN>')\n",
    "        DE_seq.append(line[0])\n",
    "        EN_seq.append(line[1])"
   ]
  },
  {
   "cell_type": "markdown",
   "metadata": {},
   "source": [
    "## Preprocess Data\n",
    "\n",
    "We'll need a unique index per word to use as the inputs and targets of\n",
    "the networks later. To keep track of all this we will use a helper class\n",
    "called ``Lang`` which has word → index (``word2index``) and index → word\n",
    "(``index2word``) dictionaries, as well as a count of each word\n",
    "``word2count`` to use to later replace rare words.\n",
    "\n",
    "\n"
   ]
  },
  {
   "cell_type": "code",
   "execution_count": 91,
   "metadata": {
    "collapsed": true
   },
   "outputs": [],
   "source": [
    "SOS_token = 0\n",
    "EOS_token = 1\n",
    "\n",
    "\n",
    "class Lang:\n",
    "    def __init__(self, name):\n",
    "        self.name = name\n",
    "        self.word2index = {}\n",
    "        self.word2count = {}\n",
    "        self.index2word = {0: \"SOS\", 1: \"EOS\"}\n",
    "        self.n_words = 2  # Count SOS and EOS\n",
    "\n",
    "    def addSentence(self, sentence):\n",
    "        for word in sentence.split(' '):\n",
    "            self.addWord(word)\n",
    "\n",
    "    def addWord(self, word):\n",
    "        if word not in self.word2index:\n",
    "            self.word2index[word] = self.n_words\n",
    "            self.word2count[word] = 1\n",
    "            self.index2word[self.n_words] = word\n",
    "            self.n_words += 1\n",
    "        else:\n",
    "            self.word2count[word] += 1"
   ]
  },
  {
   "cell_type": "markdown",
   "metadata": {},
   "source": [
    "The files are all in Unicode, to simplify we will turn Unicode\n",
    "characters to ASCII, make everything lowercase, and trim most\n",
    "punctuation.\n",
    "\n",
    "\n"
   ]
  },
  {
   "cell_type": "code",
   "execution_count": 92,
   "metadata": {
    "collapsed": true
   },
   "outputs": [],
   "source": [
    "# Turn a Unicode string to plain ASCII, thanks to\n",
    "# http://stackoverflow.com/a/518232/2809427\n",
    "def unicodeToAscii(s):\n",
    "    return ''.join(\n",
    "        c for c in unicodedata.normalize('NFD', s)\n",
    "        if unicodedata.category(c) != 'Mn'\n",
    "    )\n",
    "\n",
    "# Lowercase, trim, and remove non-letter characters\n",
    "def normalizeString(s):\n",
    "    s = s.replace(\" <EOS>\", \"\") #there might be other special symbols I need to remove\n",
    "    s = unicodeToAscii(s.lower().strip())\n",
    "    s = re.sub(r\"([.!?])\", r\" \\1\", s) #separates punctuation from the word\n",
    "    s = re.sub(r\"[^a-zA-Z.!?]+\", r\" \", s) #strips anything that isn't a character of punctuation\n",
    "    return s"
   ]
  },
  {
   "cell_type": "code",
   "execution_count": 93,
   "metadata": {
    "collapsed": false
   },
   "outputs": [],
   "source": [
    "def readLangs(seq1, seq2):\n",
    "    print(\"Reading lines...\")\n",
    "    \n",
    "    # Split every line into pairs and normalize\n",
    "    seq1 = [normalizeString(s) for s in seq1]\n",
    "    seq2 = [normalizeString(s) for s in seq2]\n",
    "    pairs = list(map(list, zip(seq1, seq2)))\n",
    "\n",
    "    return pairs"
   ]
  },
  {
   "cell_type": "code",
   "execution_count": 94,
   "metadata": {
    "collapsed": false
   },
   "outputs": [
    {
     "name": "stdout",
     "output_type": "stream",
     "text": [
      "Reading lines...\n"
     ]
    }
   ],
   "source": [
    "pairs = readLangs(DE_seq, EN_seq)\n",
    "\n",
    "input_lang = Lang('ger')\n",
    "output_lang = Lang('eng')"
   ]
  },
  {
   "cell_type": "markdown",
   "metadata": {},
   "source": [
    "Since there are a *lot* of example sentences and we want to train\n",
    "something quickly, we'll trim the data set to only relatively short and\n",
    "simple sentences. Here the maximum length is 10 words (that includes\n",
    "ending punctuation) and we're filtering to sentences that translate to\n",
    "the form \"I am\" or \"He is\" etc. (accounting for apostrophes replaced\n",
    "earlier).\n",
    "\n",
    "\n"
   ]
  },
  {
   "cell_type": "code",
   "execution_count": 96,
   "metadata": {
    "collapsed": true
   },
   "outputs": [],
   "source": [
    "#will ultimately remove this and set MAX_LENGTH to the longest sentence.\n",
    "MAX_LENGTH = 5\n",
    "\n",
    "eng_prefixes = (\n",
    "    \"i am \", \"i m \",\n",
    "    \"he is\", \"he s \",\n",
    "    \"she is\", \"she s\",\n",
    "    \"you are\", \"you re \",\n",
    "    \"we are\", \"we re \",\n",
    "    \"they are\", \"they re \"\n",
    ")\n",
    "\n",
    "\n",
    "def filterPair(p):\n",
    "    return len(p[0].split(' ')) < MAX_LENGTH and \\\n",
    "        len(p[1].split(' ')) < MAX_LENGTH and \\\n",
    "        p[1].startswith(eng_prefixes)\n",
    "\n",
    "\n",
    "def filterPairs(pairs):\n",
    "    return [pair for pair in pairs if filterPair(pair)]\n",
    "\n",
    "pairs = filterPairs(pairs)"
   ]
  },
  {
   "cell_type": "code",
   "execution_count": 97,
   "metadata": {
    "collapsed": false
   },
   "outputs": [
    {
     "data": {
      "text/plain": [
       "54"
      ]
     },
     "execution_count": 97,
     "metadata": {},
     "output_type": "execute_result"
    }
   ],
   "source": [
    "len(pairs) "
   ]
  },
  {
   "cell_type": "markdown",
   "metadata": {},
   "source": [
    "The full process for preparing the data is:\n",
    "\n",
    "-  Read text file and split into lines, split lines into pairs\n",
    "-  Normalize text, filter by length and content\n",
    "-  Make word lists from sentences in pairs\n",
    "\n",
    "\n"
   ]
  },
  {
   "cell_type": "code",
   "execution_count": 98,
   "metadata": {
    "collapsed": false
   },
   "outputs": [
    {
     "name": "stdout",
     "output_type": "stream",
     "text": [
      "Read 54 sentence pairs\n",
      "Trimmed to 54 sentence pairs\n",
      "Counting words...\n",
      "Counted words:\n",
      "ger 72\n",
      "eng 65\n",
      "total # pairs = 54\n",
      "avg # of german sentences = 3.8518518518518516\n",
      "avg # of english sentences = 3.9814814814814814\n",
      "['sie wurde geschlagen .', 'she s beaten .']\n"
     ]
    }
   ],
   "source": [
    "def prepareData(pairs, input_lang, output_lang):\n",
    "    print(\"Read %s sentence pairs\" % len(pairs))\n",
    "    print(\"Trimmed to %s sentence pairs\" % len(pairs))\n",
    "    print(\"Counting words...\")\n",
    "    for pair in pairs:\n",
    "        input_lang.addSentence(pair[0])\n",
    "        output_lang.addSentence(pair[1])\n",
    "    print(\"Counted words:\")\n",
    "    print(input_lang.name, input_lang.n_words)\n",
    "    print(output_lang.name, output_lang.n_words)\n",
    "    return pairs, input_lang, output_lang\n",
    "\n",
    "pairs, input_lang, output_lang = prepareData(pairs, input_lang, output_lang)\n",
    "\n",
    "\n",
    "print(\"total # pairs = {0}\".format(len(pairs)))\n",
    "print(\"avg # of german sentences = {0}\".format(np.mean([len(x[0].split()) for x in pairs])))\n",
    "print(\"avg # of english sentences = {0}\".format(np.mean([len(x[1].split()) for x in pairs])))\n",
    "print(random.choice(pairs))"
   ]
  },
  {
   "cell_type": "markdown",
   "metadata": {},
   "source": [
    "#### Controlling vocab size"
   ]
  },
  {
   "cell_type": "code",
   "execution_count": 99,
   "metadata": {
    "collapsed": true
   },
   "outputs": [],
   "source": [
    "vocab_size = 10000"
   ]
  },
  {
   "cell_type": "code",
   "execution_count": 100,
   "metadata": {
    "collapsed": false
   },
   "outputs": [],
   "source": [
    "def trim_vocab(list_of_langs, vocab_size):\n",
    "    for lang in list_of_langs:\n",
    "        vocab = [count[0] for count in Counter(lang.word2count).most_common(vocab_size)]\n",
    "        for key in input_lang.word2index.keys():\n",
    "            if key not in vocab:\n",
    "                lang.word2index[key] = lang.n_words + 1\n",
    "        lang.index2word[lang.n_words + 1] = \"<UNK>\""
   ]
  },
  {
   "cell_type": "code",
   "execution_count": 101,
   "metadata": {
    "collapsed": false
   },
   "outputs": [],
   "source": [
    "trim_vocab(list([input_lang, output_lang]), 10000)"
   ]
  },
  {
   "cell_type": "markdown",
   "metadata": {},
   "source": [
    "### The Encoder"
   ]
  },
  {
   "cell_type": "code",
   "execution_count": 183,
   "metadata": {
    "collapsed": true
   },
   "outputs": [],
   "source": [
    "class EncoderRNN(nn.Module):\n",
    "    #will set n_layers to 4 to match architecture of Luong's paper\n",
    "    #but this may also be a hyperparameter we can tune\n",
    "    def __init__(self, input_size, hidden_size, n_layers):\n",
    "        super(EncoderRNN, self).__init__()\n",
    "        self.n_layers = n_layers\n",
    "        self.hidden_size = hidden_size\n",
    "        self.embedding = nn.Embedding(input_size, hidden_size)\n",
    "        self.embedding_dim = embedding_dim\n",
    "        self.lstm = nn.LSTM(hidden_size, hidden_size)\n",
    "        \n",
    "    def forward(self, x, hidden):\n",
    "        embedded = self.embedding(x).view(1, 1, -1)\n",
    "        output = embedded\n",
    "        for i in range(self.n_layers):\n",
    "            output, self.hidden = self.lstm(output, hidden)\n",
    "        return output, hidden\n",
    "        \n",
    "    def init_weights(self):\n",
    "        #is it okay that all the lstm layers share an initialization or do I need to create separate layers\n",
    "        #for each round of LSTM?\n",
    "        initrange = 0.1\n",
    "        lin_layers = [self.linear_f, self.linear_i, self.linear_ctilde, self.linear_o]\n",
    "        em_layer = [self.embedding]\n",
    "     \n",
    "        for layer in lin_layers+em_layer:\n",
    "            layer.weight.data.uniform_(-initrange, initrange)\n",
    "            if layer in lin_layers:\n",
    "                layer.bias.data.fill_(0)\n",
    "\n",
    "    def initHidden(self):\n",
    "        #the paper says to use \"uniform initialization of parameters in [−0.1,0.1]: does that include these?\"\n",
    "        h0 = Variable(torch.zeros(1, 1, self.hidden_size))\n",
    "        c0 = Variable(torch.zeros(1, 1, self.hidden_size))\n",
    "        if use_cuda:\n",
    "            return h0.cuda(), c0.cuda()\n",
    "        else:\n",
    "            return h0, c0"
   ]
  },
  {
   "cell_type": "markdown",
   "metadata": {},
   "source": [
    "### Attention Decoder"
   ]
  },
  {
   "cell_type": "code",
   "execution_count": 245,
   "metadata": {
    "collapsed": false
   },
   "outputs": [],
   "source": [
    "class AttnDecoderRNN(nn.Module):\n",
    "    #will ultimately set max_length based on the maximum length of a sequence found in our data\n",
    "    #changed dropout to .2 based on Zaremba paper\n",
    "    \n",
    "    #should there be more than one hidden?\n",
    "    def __init__(self, hidden_size, output_size, n_layers=1, dropout_p=0.2, max_length=MAX_LENGTH):\n",
    "        super(AttnDecoderRNN, self).__init__()\n",
    "        self.hidden_size = hidden_size\n",
    "        self.output_size = output_size\n",
    "        self.n_layers = n_layers\n",
    "        self.dropout_p = dropout_p\n",
    "        self.max_length = max_length\n",
    "\n",
    "        self.embedding = nn.Embedding(self.output_size, self.hidden_size)\n",
    "        self.attn_1 = nn.Linear(self.hidden_size * 2, self.max_length)\n",
    "        self.attn_combine_1 = nn.Linear(self.hidden_size * 2, self.hidden_size)\n",
    "        self.attn_2 = nn.Linear(self.hidden_size * 2, self.max_length)\n",
    "        self.attn_combine_2 = nn.Linear(self.hidden_size * 2, self.hidden_size)\n",
    "        self.dropout = nn.Dropout(self.dropout_p)\n",
    "        self.out = nn.Linear(self.hidden_size, self.output_size)\n",
    "\n",
    "    def forward(self, input, hidden, encoder_output, encoder_outputs):\n",
    "        embedded = self.embedding(input).view(1, 1, -1)\n",
    "        embedded = self.dropout(embedded)\n",
    "        \n",
    "        cat = torch.cat((embedded[0], hidden[0][0]), 1)\n",
    "        \n",
    "        #first attention mechanism for the sake of the word-level model\n",
    "        #this was a softmax originally, replaced with tanh as paper describes\n",
    "        #but the actual attention mechanism may be different\n",
    "        attn_weights_1 = F.tanh(\n",
    "            self.attn_1(torch.cat((embedded[0], hidden[0][0]), 1)))\n",
    "        attn_applied_1 = torch.bmm(attn_weights_1.unsqueeze(0),\n",
    "                                 encoder_outputs.unsqueeze(0))\n",
    "        #the paper doesn't explicitly mention these layers\n",
    "        #but I think this is necessary in general for \n",
    "        #an attentional decoder\n",
    "        output_1 = torch.cat((embedded[0], attn_applied_1[0]), 1)\n",
    "        output_1 = self.attn_combine_1(output_1).unsqueeze(0)\n",
    "        \n",
    "        #second attention mechanism for the sake of the character-level model\n",
    "        \n",
    "        attn_weights_2 = F.tanh(\n",
    "            self.attn_2(torch.cat((embedded[0], hidden[0][0]), 1)))\n",
    "        attn_applied_2 = torch.bmm(attn_weights_2.unsqueeze(0),\n",
    "                                 encoder_outputs.unsqueeze(0))\n",
    "        output_2 = torch.cat((embedded[0], attn_applied_2[0]), 1)\n",
    "        output_2 = self.attn_combine_2(output_2).unsqueeze(0)\n",
    "\n",
    "        output_1 = F.log_softmax(self.out(output_1[0]))\n",
    "        return output_1, hidden, attn_weights_1\n",
    "    \n",
    "    def initHidden(self):\n",
    "        result = Variable(torch.zeros(1, 1, self.hidden_size))\n",
    "        if use_cuda:\n",
    "            return result.cuda()\n",
    "        else:\n",
    "            return result"
   ]
  },
  {
   "cell_type": "markdown",
   "metadata": {},
   "source": [
    "## Training\n",
    "\n",
    "To train, for each pair we will need an input tensor (indexes of the\n",
    "words in the input sentence) and target tensor (indexes of the words in\n",
    "the target sentence). While creating these vectors we will append the\n",
    "EOS token to both sequences.\n",
    "\n",
    "\n"
   ]
  },
  {
   "cell_type": "code",
   "execution_count": 196,
   "metadata": {
    "collapsed": true
   },
   "outputs": [],
   "source": [
    "def indexesFromSentence(lang, sentence):\n",
    "    return [lang.word2index[word] for word in sentence.split(' ')]\n",
    "\n",
    "def variableFromSentence(lang, sentence):\n",
    "    indexes = indexesFromSentence(lang, sentence)\n",
    "    indexes.append(EOS_token)\n",
    "    result = Variable(torch.LongTensor(indexes).view(-1, 1))\n",
    "    if use_cuda:\n",
    "        return result.cuda()\n",
    "    else:\n",
    "        return result\n",
    "\n",
    "def variablesFromPair(pair):\n",
    "    input_variable = variableFromSentence(input_lang, pair[0])\n",
    "    target_variable = variableFromSentence(output_lang, pair[1])\n",
    "    return (input_variable, target_variable)"
   ]
  },
  {
   "cell_type": "code",
   "execution_count": 247,
   "metadata": {
    "collapsed": true
   },
   "outputs": [],
   "source": [
    "def train(input_variable, target_variable, encoder, decoder, encoder_optimizer, decoder_optimizer, criterion, max_length=MAX_LENGTH):\n",
    "    encoder_hidden = encoder.initHidden()\n",
    "\n",
    "    encoder_optimizer.zero_grad()\n",
    "    decoder_optimizer.zero_grad()\n",
    "\n",
    "    input_length = input_variable.size()[0]\n",
    "    target_length = target_variable.size()[0]\n",
    "    \n",
    "    encoder_outputs = Variable(torch.zeros(max_length, encoder.hidden_size))\n",
    "    encoder_outputs = encoder_outputs.cuda() if use_cuda else encoder_outputs\n",
    "   \n",
    "    loss = 0\n",
    "\n",
    "    for ei in range(input_length):\n",
    "        encoder_output, encoder_hidden = encoder(\n",
    "            input_variable[ei], encoder_hidden)\n",
    "        encoder_outputs[ei] = encoder_output[0][0]\n",
    "\n",
    "    decoder_input = Variable(torch.LongTensor([[SOS_token]]))\n",
    "    decoder_input = decoder_input.cuda() if use_cuda else decoder_input\n",
    "    \n",
    "    decoder_hidden = encoder_hidden\n",
    "\n",
    "    for di in range(target_length):\n",
    "        decoder_output, decoder_hidden, decoder_attention = decoder(\n",
    "            decoder_input, decoder_hidden, encoder_output, encoder_outputs)\n",
    "        topv, topi = decoder_output.data.topk(1)\n",
    "        ni = topi[0][0]\n",
    "\n",
    "        decoder_input = Variable(torch.LongTensor([[ni]]))\n",
    "        decoder_input = decoder_input.cuda() if use_cuda else decoder_input\n",
    "\n",
    "        loss += criterion(decoder_output, target_variable[di])\n",
    "        if ni == EOS_token:\n",
    "            break\n",
    "\n",
    "    loss.backward()\n",
    "\n",
    "    encoder_optimizer.step()\n",
    "    decoder_optimizer.step()\n",
    "\n",
    "    return loss.data[0] / target_length"
   ]
  },
  {
   "cell_type": "markdown",
   "metadata": {},
   "source": [
    "This is a helper function to print time elapsed and estimated time\n",
    "remaining given the current time and progress %.\n",
    "\n",
    "\n"
   ]
  },
  {
   "cell_type": "code",
   "execution_count": 248,
   "metadata": {
    "collapsed": true
   },
   "outputs": [],
   "source": [
    "import time\n",
    "import math\n",
    "\n",
    "\n",
    "def asMinutes(s):\n",
    "    m = math.floor(s / 60)\n",
    "    s -= m * 60\n",
    "    return '%dm %ds' % (m, s)\n",
    "\n",
    "\n",
    "def timeSince(since, percent):\n",
    "    now = time.time()\n",
    "    s = now - since\n",
    "    es = s / (percent)\n",
    "    rs = es - s\n",
    "    return '%s (- %s)' % (asMinutes(s), asMinutes(rs))"
   ]
  },
  {
   "cell_type": "code",
   "execution_count": 249,
   "metadata": {
    "collapsed": true
   },
   "outputs": [],
   "source": [
    "def trainIters(encoder, decoder, n_iters, print_every=1000, plot_every=100, learning_rate=0.01):\n",
    "    start = time.time()\n",
    "    plot_losses = []\n",
    "    print_loss_total = 0  # Reset every print_every\n",
    "    plot_loss_total = 0  # Reset every plot_every\n",
    "\n",
    "    encoder_optimizer = optim.SGD(encoder.parameters(), lr=learning_rate)\n",
    "    decoder_optimizer = optim.SGD(decoder.parameters(), lr=learning_rate)\n",
    "    training_pairs = [variablesFromPair(random.choice(pairs))\n",
    "                      for i in range(n_iters)]\n",
    "    criterion = nn.NLLLoss()\n",
    "\n",
    "    for iter in range(1, n_iters + 1):\n",
    "        training_pair = training_pairs[iter - 1]\n",
    "        input_variable = training_pair[0]\n",
    "        target_variable = training_pair[1]\n",
    " \n",
    "        loss = train(input_variable, target_variable, encoder,\n",
    "                     decoder, encoder_optimizer, decoder_optimizer, criterion)\n",
    "        print_loss_total += loss\n",
    "        plot_loss_total += loss\n",
    "\n",
    "        if iter % print_every == 0:\n",
    "            print_loss_avg = print_loss_total / print_every\n",
    "            print_loss_total = 0\n",
    "            print('%s (%d %d%%) %.4f' % (timeSince(start, iter / n_iters),\n",
    "                                         iter, iter / n_iters * 100, print_loss_avg))\n",
    "\n",
    "        if iter % plot_every == 0:\n",
    "            plot_loss_avg = plot_loss_total / plot_every\n",
    "            plot_losses.append(plot_loss_avg)\n",
    "            plot_loss_total = 0\n",
    "\n",
    "    showPlot(plot_losses)"
   ]
  },
  {
   "cell_type": "markdown",
   "metadata": {},
   "source": [
    "Plotting results\n",
    "----------------\n",
    "\n",
    "Plotting is done with matplotlib, using the array of loss values\n",
    "``plot_losses`` saved while training.\n",
    "\n",
    "\n"
   ]
  },
  {
   "cell_type": "code",
   "execution_count": 230,
   "metadata": {
    "collapsed": true
   },
   "outputs": [],
   "source": [
    "import matplotlib.pyplot as plt\n",
    "import matplotlib.ticker as ticker\n",
    "import numpy as np\n",
    "\n",
    "\n",
    "def showPlot(points):\n",
    "    plt.figure()\n",
    "    fig, ax = plt.subplots()\n",
    "    # this locator puts ticks at regular intervals\n",
    "    loc = ticker.MultipleLocator(base=0.2)\n",
    "    ax.yaxis.set_major_locator(loc)\n",
    "    plt.plot(points)"
   ]
  },
  {
   "cell_type": "markdown",
   "metadata": {},
   "source": [
    "Evaluation\n",
    "==========\n",
    "\n",
    "Evaluation is mostly the same as training, but there are no targets so\n",
    "we simply feed the decoder's predictions back to itself for each step.\n",
    "Every time it predicts a word we add it to the output string, and if it\n",
    "predicts the EOS token we stop there. We also store the decoder's\n",
    "attention outputs for display later.\n",
    "\n",
    "\n"
   ]
  },
  {
   "cell_type": "code",
   "execution_count": null,
   "metadata": {
    "collapsed": false
   },
   "outputs": [],
   "source": [
    "#MAX_LENGTH = 2836"
   ]
  },
  {
   "cell_type": "code",
   "execution_count": 250,
   "metadata": {
    "collapsed": true
   },
   "outputs": [],
   "source": [
    "def evaluate(encoder, decoder, sentence, max_length=MAX_LENGTH):\n",
    "    \"\"\"\n",
    "    Function that generate translation.\n",
    "    First, feed the source sentence into the encoder and obtain the hidden states from encoder.\n",
    "    Secondly, feed the hidden states into the decoder and unfold the outputs from the decoder.\n",
    "    Lastly, for each outputs from the decoder, collect the corresponding words in the target language's vocabulary.\n",
    "    And collect the attention for each output words.\n",
    "    @param encoder: the encoder network\n",
    "    @param decoder: the decoder network\n",
    "    @param sentence: string, a sentence in source language to be translated\n",
    "    @param max_length: the max # of words that the decoder can return\n",
    "    @output decoded_words: a list of words in target language\n",
    "    @output decoder_attentions: a list of vector, each of which sums up to 1.0\n",
    "    \"\"\"\n",
    "    # process input sentence\n",
    "    input_variable = variableFromSentence(input_lang, sentence)\n",
    "    input_length = input_variable.size()[0]\n",
    "    \n",
    "    # encode the source lanugage\n",
    "    encoder_hidden = encoder.initHidden()\n",
    "    encoder_outputs = Variable(torch.zeros(max_length, encoder.hidden_size))\n",
    "    encoder_outputs = encoder_outputs.cuda() if use_cuda else encoder_outputs\n",
    "    for ei in range(input_length):\n",
    "        encoder_output, encoder_hidden = encoder(input_variable[ei],\n",
    "                                                 encoder_hidden)\n",
    "        encoder_outputs[ei] = encoder_outputs[ei] + encoder_output[0][0]\n",
    "    \n",
    "    # decode the context vector\n",
    "    decoder_hidden = encoder_hidden # decoder starts from the last encoding sentence\n",
    "    decoder_input = Variable(torch.LongTensor([[SOS_token]]))  # SOS\n",
    "    decoder_input = decoder_input.cuda() if use_cuda else decoder_input\n",
    "    # output of this function\n",
    "    decoded_words = []\n",
    "    decoder_attentions = torch.zeros(max_length, max_length)\n",
    "    # unfold\n",
    "    for di in range(max_length):\n",
    "        # for each time step, the decoder network takes two inputs: previous outputs and the previous hidden states\n",
    "        #error here\n",
    "        decoder_output, decoder_hidden, decoder_attention = decoder(\n",
    "            decoder_input, decoder_hidden, encoder_output, encoder_outputs)\n",
    "        # hint: print out decoder_output and decoder_attention\n",
    "        decoder_attentions[di] = decoder_attention.data\n",
    "        topv, topi = decoder_output.data.topk(1)\n",
    "        ni = topi[0][0]\n",
    "        # stop unfolding whenever '<EOS>' token is returned\n",
    "        if ni == EOS_token:\n",
    "            decoded_words.append('<EOS>')\n",
    "            break\n",
    "        else:\n",
    "            decoded_words.append(output_lang.index2word[ni])\n",
    "        \n",
    "        decoder_input = Variable(torch.LongTensor([[ni]]))\n",
    "        decoder_input = decoder_input.cuda() if use_cuda else decoder_input\n",
    "\n",
    "    return decoded_words, decoder_attentions[:di + 1]"
   ]
  },
  {
   "cell_type": "markdown",
   "metadata": {},
   "source": [
    "We can evaluate random sentences from the training set and print out the\n",
    "input, target, and output to make some subjective quality judgements:\n",
    "\n",
    "\n"
   ]
  },
  {
   "cell_type": "code",
   "execution_count": 232,
   "metadata": {
    "collapsed": true
   },
   "outputs": [],
   "source": [
    "def evaluateRandomly(encoder, decoder, n=10):\n",
    "    \"\"\"\n",
    "    Randomly select a English sentence from the dataset and try to produce its German translation.\n",
    "    Note that you need a correct implementation of evaluate() in order to make this function work.\n",
    "    \"\"\"\n",
    "    for i in range(n):\n",
    "        pair = random.choice(pairs)\n",
    "        print('>', pair[0])\n",
    "        print('=', pair[1])\n",
    "        output_words, attentions = evaluate(encoder, decoder, pair[0])\n",
    "        output_sentence = ' '.join(output_words)\n",
    "        print('<', output_sentence)\n",
    "        print('')"
   ]
  },
  {
   "cell_type": "markdown",
   "metadata": {},
   "source": [
    "## Training\n",
    "\n",
    "   If you run this notebook you can train, interrupt the kernel,\n",
    "   evaluate, and continue training later. Comment out the lines where the\n",
    "   encoder and decoder are initialized and run ``trainIters`` again."
   ]
  },
  {
   "cell_type": "code",
   "execution_count": null,
   "metadata": {
    "collapsed": true
   },
   "outputs": [],
   "source": [
    "#trying the tip about commenting out the init lines"
   ]
  },
  {
   "cell_type": "code",
   "execution_count": 255,
   "metadata": {
    "collapsed": false
   },
   "outputs": [
    {
     "name": "stdout",
     "output_type": "stream",
     "text": [
      "1m 37s (- 46m 58s) (1000 3%) 1.6434\n",
      "3m 9s (- 44m 13s) (2000 6%) 1.4737\n",
      "4m 32s (- 40m 49s) (3000 10%) 1.4855\n",
      "5m 46s (- 37m 29s) (4000 13%) 1.5011\n",
      "7m 4s (- 35m 22s) (5000 16%) 1.4545\n",
      "8m 25s (- 33m 41s) (6000 20%) 1.4947\n",
      "9m 45s (- 32m 4s) (7000 23%) 1.4847\n",
      "11m 4s (- 30m 28s) (8000 26%) 1.5031\n",
      "12m 32s (- 29m 15s) (9000 30%) 1.4840\n",
      "14m 10s (- 28m 21s) (10000 33%) 1.4570\n",
      "15m 39s (- 27m 2s) (11000 36%) 1.4454\n",
      "17m 9s (- 25m 43s) (12000 40%) 1.4704\n",
      "18m 31s (- 24m 13s) (13000 43%) 1.4362\n",
      "19m 55s (- 22m 46s) (14000 46%) 1.4421\n",
      "21m 17s (- 21m 17s) (15000 50%) 1.3763\n",
      "22m 49s (- 19m 58s) (16000 53%) 1.2815\n",
      "24m 13s (- 18m 31s) (17000 56%) 1.0741\n",
      "25m 31s (- 17m 0s) (18000 60%) 0.9571\n",
      "27m 3s (- 15m 39s) (19000 63%) 0.8719\n",
      "28m 44s (- 14m 22s) (20000 66%) 0.8363\n",
      "30m 13s (- 12m 57s) (21000 70%) 0.9069\n",
      "31m 28s (- 11m 26s) (22000 73%) 0.7329\n",
      "32m 46s (- 9m 58s) (23000 76%) 0.7576\n",
      "34m 9s (- 8m 32s) (24000 80%) 0.5649\n",
      "35m 44s (- 7m 8s) (25000 83%) 0.6002\n",
      "37m 19s (- 5m 44s) (26000 86%) 0.5531\n",
      "38m 44s (- 4m 18s) (27000 90%) 0.4143\n",
      "40m 14s (- 2m 52s) (28000 93%) 0.3908\n",
      "41m 47s (- 1m 26s) (29000 96%) 0.3501\n",
      "43m 13s (- 0m 0s) (30000 100%) 0.3755\n"
     ]
    },
    {
     "data": {
      "text/plain": [
       "<matplotlib.figure.Figure at 0x1252f47f0>"
      ]
     },
     "metadata": {},
     "output_type": "display_data"
    },
    {
     "data": {
      "image/png": "[encoded data removed]",
      "text/plain": [
       "<matplotlib.figure.Figure at 0x1252ef7f0>"
      ]
     },
     "metadata": {},
     "output_type": "display_data"
    }
   ],
   "source": [
    "hidden_size = 256\n",
    "###the paper says to use 1024-dimensional embeddings, so I guess the hidden size is 1024\n",
    "###6-epoch training with plain SGD and a simple learn-ing rate schedule – \n",
    "#start with a learning rate of 1.0; after 4 epochs, halve the learning rate every 0.5 epoch\n",
    "#how do we change the learning rate schedule and do I need to start an epoch counter?\n",
    "#it also says the batch size of 128, although I would say that this model currently\n",
    "#doesn't have a batch size or has a batch size of 1.\n",
    "n_layers = 4\n",
    "\n",
    "\n",
    "#not sure about n_words, could be vocab size.\n",
    "\n",
    "encoder1 = EncoderRNN(vocab_size, hidden_size, 4)\n",
    "attn_decoder1 = AttnDecoderRNN(hidden_size, output_lang.n_words,\n",
    "                               1, dropout_p=0.2)\n",
    "\n",
    "if use_cuda:\n",
    "    encoder1 = encoder1.cuda()\n",
    "    attn_decoder1 = attn_decoder1.cuda()\n",
    "\n",
    "trainIters(encoder1, attn_decoder1, 30000, print_every=1000) #75000 is the number of iterations, could recode this\n",
    "\n",
    "torch.save(encoder1.state_dict(), \"saved_encoder_3.pth\")\n",
    "torch.save(attn_decoder1.state_dict(), \"saved_decoder_3.pth\")\n",
    "\n",
    "#encoder1.load_state_dict(torch.load(\"saved_encoder.pth\"))\n",
    "#attn_decoder1.load_state_dict(torch.load(\"saved_decoder.pth\"))"
   ]
  },
  {
   "cell_type": "code",
   "execution_count": 258,
   "metadata": {
    "collapsed": false
   },
   "outputs": [
    {
     "data": {
      "text/plain": [
       "{'!': 66,\n",
       " '.': 5,\n",
       " 'ab': 66,\n",
       " 'am': 12,\n",
       " 'and': 15,\n",
       " 'ansteckend': 66,\n",
       " 'are': 3,\n",
       " 'auftragsarbeiten': 66,\n",
       " 'beaten': 36,\n",
       " 'besorgt': 66,\n",
       " 'bewegen': 66,\n",
       " 'biased': 55,\n",
       " 'bin': 66,\n",
       " 'chocolates': 62,\n",
       " 'christen': 66,\n",
       " 'christians': 20,\n",
       " 'clever': 66,\n",
       " 'colorblind': 64,\n",
       " 'commissioned': 63,\n",
       " 'critical': 17,\n",
       " 'crushed': 4,\n",
       " 'curious': 22,\n",
       " 'delicacies': 38,\n",
       " 'delicious': 46,\n",
       " 'delikatessen': 66,\n",
       " 'die': 66,\n",
       " 'domestics': 48,\n",
       " 'drei': 66,\n",
       " 'dynamic': 56,\n",
       " 'dynamisch': 66,\n",
       " 'eins': 66,\n",
       " 'entschuldigung': 66,\n",
       " 'er': 66,\n",
       " 'erregend': 66,\n",
       " 'es': 66,\n",
       " 'everywhere': 10,\n",
       " 'excitatory': 41,\n",
       " 'extrapolating': 31,\n",
       " 'falsch': 66,\n",
       " 'farbenblind': 66,\n",
       " 'gelahmt': 66,\n",
       " 'geschlagen': 66,\n",
       " 'haben': 66,\n",
       " 'hausangestellte': 66,\n",
       " 'he': 39,\n",
       " 'here': 52,\n",
       " 'hier': 66,\n",
       " 'i': 11,\n",
       " 'ich': 66,\n",
       " 'in': 35,\n",
       " 'infectious': 32,\n",
       " 'interesse': 66,\n",
       " 'interessiert': 66,\n",
       " 'interested': 19,\n",
       " 'is': 27,\n",
       " 'ist': 66,\n",
       " 'jetzt': 66,\n",
       " 'joking': 42,\n",
       " 'kidding': 51,\n",
       " 'kritisch': 66,\n",
       " 'lecker': 66,\n",
       " 'leite': 66,\n",
       " 'liegen': 66,\n",
       " 'live': 33,\n",
       " 'm': 25,\n",
       " 'mammals': 47,\n",
       " 'moving': 30,\n",
       " 'nackt': 66,\n",
       " 'neugierig': 66,\n",
       " 'now': 28,\n",
       " 'nude': 8,\n",
       " 'obsolete': 43,\n",
       " 'one': 44,\n",
       " 'oppressed': 14,\n",
       " 'over': 34,\n",
       " 'paralyzed': 49,\n",
       " 'perfect': 26,\n",
       " 'perfekt': 66,\n",
       " 'powerful': 45,\n",
       " 'productive': 13,\n",
       " 'produktiv': 66,\n",
       " 'psychiaterinnen': 66,\n",
       " 'psychiatrists': 53,\n",
       " 're': 9,\n",
       " 'reconstructive': 54,\n",
       " 'rekonstruktiv': 66,\n",
       " 'responsible': 58,\n",
       " 's': 7,\n",
       " 'saugetiere': 66,\n",
       " 'schaut': 66,\n",
       " 'scherze': 66,\n",
       " 'schluchzt': 66,\n",
       " 'schockiert': 66,\n",
       " 'schokolade': 66,\n",
       " 'sells': 61,\n",
       " 'she': 6,\n",
       " 'shocked': 21,\n",
       " 'sie': 66,\n",
       " 'sind': 66,\n",
       " 'singen': 66,\n",
       " 'singing': 60,\n",
       " 'smart': 50,\n",
       " 'sniveling': 40,\n",
       " 'sorry': 57,\n",
       " 'staatenlos': 66,\n",
       " 'stark': 66,\n",
       " 'stateless': 59,\n",
       " 'they': 2,\n",
       " 'three': 18,\n",
       " 'trage': 66,\n",
       " 'uberall': 66,\n",
       " 'und': 66,\n",
       " 'unrecht': 66,\n",
       " 'uns': 66,\n",
       " 'unterdruckt': 66,\n",
       " 'veraltet': 66,\n",
       " 'verantwortung': 66,\n",
       " 'verkauft': 66,\n",
       " 'vorbei': 66,\n",
       " 'voreingenommen': 66,\n",
       " 'watching': 37,\n",
       " 'we': 29,\n",
       " 'werden': 66,\n",
       " 'wir': 66,\n",
       " 'worried': 23,\n",
       " 'wrong': 24,\n",
       " 'wurde': 66,\n",
       " 'you': 16,\n",
       " 'zermalmt': 66,\n",
       " 'zu': 66}"
      ]
     },
     "execution_count": 258,
     "metadata": {},
     "output_type": "execute_result"
    }
   ],
   "source": [
    "output_lang.word2index"
   ]
  },
  {
   "cell_type": "code",
   "execution_count": 257,
   "metadata": {
    "collapsed": false
   },
   "outputs": [
    {
     "data": {
      "text/plain": [
       "{'!': 35,\n",
       " '.': 5,\n",
       " 'ab': 32,\n",
       " 'ansteckend': 33,\n",
       " 'auftragsarbeiten': 70,\n",
       " 'besorgt': 21,\n",
       " 'bewegen': 29,\n",
       " 'bin': 11,\n",
       " 'christen': 18,\n",
       " 'clever': 56,\n",
       " 'delikatessen': 43,\n",
       " 'die': 51,\n",
       " 'drei': 16,\n",
       " 'dynamisch': 61,\n",
       " 'eins': 49,\n",
       " 'entschuldigung': 62,\n",
       " 'er': 44,\n",
       " 'erregend': 46,\n",
       " 'es': 69,\n",
       " 'falsch': 23,\n",
       " 'farbenblind': 71,\n",
       " 'gelahmt': 55,\n",
       " 'geschlagen': 39,\n",
       " 'haben': 25,\n",
       " 'hausangestellte': 54,\n",
       " 'hier': 57,\n",
       " 'ich': 10,\n",
       " 'in': 37,\n",
       " 'interesse': 42,\n",
       " 'interessiert': 17,\n",
       " 'ist': 6,\n",
       " 'jetzt': 27,\n",
       " 'kritisch': 15,\n",
       " 'lecker': 52,\n",
       " 'leite': 31,\n",
       " 'liegen': 22,\n",
       " 'live': 34,\n",
       " 'nackt': 7,\n",
       " 'neugierig': 20,\n",
       " 'perfekt': 24,\n",
       " 'produktiv': 12,\n",
       " 'psychiaterinnen': 58,\n",
       " 'rekonstruktiv': 59,\n",
       " 'saugetiere': 53,\n",
       " 'schaut': 40,\n",
       " 'scherze': 47,\n",
       " 'schluchzt': 45,\n",
       " 'schockiert': 19,\n",
       " 'schokolade': 68,\n",
       " 'sie': 2,\n",
       " 'sind': 8,\n",
       " 'singen': 66,\n",
       " 'staatenlos': 65,\n",
       " 'stark': 50,\n",
       " 'trage': 63,\n",
       " 'uberall': 9,\n",
       " 'und': 14,\n",
       " 'unrecht': 26,\n",
       " 'uns': 30,\n",
       " 'unterdruckt': 13,\n",
       " 'veraltet': 48,\n",
       " 'verantwortung': 64,\n",
       " 'verkauft': 67,\n",
       " 'vorbei': 36,\n",
       " 'voreingenommen': 60,\n",
       " 'werden': 3,\n",
       " 'wir': 28,\n",
       " 'wurde': 38,\n",
       " 'zermalmt': 4,\n",
       " 'zu': 41}"
      ]
     },
     "execution_count": 257,
     "metadata": {},
     "output_type": "execute_result"
    }
   ],
   "source": [
    "input_lang.word2index"
   ]
  },
  {
   "cell_type": "code",
   "execution_count": 256,
   "metadata": {
    "collapsed": false,
    "scrolled": true
   },
   "outputs": [
    {
     "name": "stdout",
     "output_type": "stream",
     "text": [
      "> sie sind neugierig .\n",
      "= they are curious .\n",
      "< they are curious . <EOS>\n",
      "\n",
      "> wir sind eins .\n",
      "= we are one .\n",
      "< we are one . <EOS>\n",
      "\n",
      "> ich trage verantwortung .\n",
      "= i m responsible .\n",
      "< i m responsible . <EOS>\n",
      "\n",
      "> sie sind staatenlos .\n",
      "= they are stateless .\n",
      "< they are stateless . <EOS>\n",
      "\n",
      "> ich bin interessiert .\n",
      "= i m interested .\n",
      "< i m biased . <EOS>\n",
      "\n",
      "> ich bin stark .\n",
      "= i m powerful .\n",
      "< i m colorblind . <EOS>\n",
      "\n",
      "> sie sind drei .\n",
      "= they re three .\n",
      "< they re three . <EOS>\n",
      "\n",
      "> sie sind live !\n",
      "= you re live .\n",
      "< you re wrong . <EOS>\n",
      "\n",
      "> es sind auftragsarbeiten .\n",
      "= they are commissioned .\n",
      "< they are commissioned . <EOS>\n",
      "\n",
      "> sie sind und .\n",
      "= they re and .\n",
      "< they re dynamic . <EOS>\n",
      "\n"
     ]
    }
   ],
   "source": [
    "evaluateRandomly(encoder1, attn_decoder1)"
   ]
  }
 ],
 "metadata": {
  "kernelspec": {
   "display_name": "Python 3",
   "language": "python",
   "name": "python3"
  },
  "language_info": {
   "codemirror_mode": {
    "name": "ipython",
    "version": 3
   },
   "file_extension": ".py",
   "mimetype": "text/x-python",
   "name": "python",
   "nbconvert_exporter": "python",
   "pygments_lexer": "ipython3",
   "version": "3.6.0"
  }
 },
 "nbformat": 4,
 "nbformat_minor": 1
}
